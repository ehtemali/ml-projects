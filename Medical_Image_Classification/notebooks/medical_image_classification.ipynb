{
  "nbformat": 4,
  "nbformat_minor": 0,
  "metadata": {
    "colab": {
      "provenance": []
    },
    "kernelspec": {
      "name": "python3",
      "display_name": "Python 3"
    },
    "language_info": {
      "name": "python"
    }
  },
  "cells": [
    {
      "cell_type": "markdown",
      "source": [
        "# Medical Image Classification\n",
        "\n",
        "This notebook demonstrates image classification of medical images using Convolutional Neural Networks (CNNs).\n",
        "We cover:\n",
        "- Dataset loading and preprocessing\n",
        "- Building a CNN model\n",
        "- Training and evaluation\n",
        "- Visualization of results\n"
      ],
      "metadata": {
        "id": "LjcD2G37ynQO"
      }
    },
    {
      "cell_type": "code",
      "source": [
        "!pip install torch torchvision matplotlib seaborn scikit-learn pandas numpy\n",
        "\n",
        "import torch\n",
        "import torch.nn as nn\n",
        "import torch.nn.functional as F\n",
        "from torch.utils.data import Dataset, DataLoader\n",
        "from torchvision import transforms\n",
        "from sklearn.model_selection import train_test_split\n",
        "import matplotlib.pyplot as plt\n",
        "import seaborn as sns\n",
        "import pandas as pd\n",
        "import numpy as np\n",
        "from PIL import Image\n",
        "import os\n"
      ],
      "metadata": {
        "id": "OJ4_ewCXyo83"
      },
      "execution_count": null,
      "outputs": []
    },
    {
      "cell_type": "code",
      "source": [
        "# Sample dataset (images should be in 'data/images/' folder)\n",
        "data_dir = 'data/images/'\n",
        "\n",
        "# Sample CSV\n",
        "df = pd.DataFrame({\n",
        "    'image_path': ['img1.png','img2.png','img3.png','img4.png','img5.png','img6.png'],\n",
        "    'label': [0,1,1,0,2,2]  # 0: Negative, 1: Neutral, 2: Positive\n",
        "})\n",
        "\n",
        "df.head()\n"
      ],
      "metadata": {
        "id": "QezugwtGysQv"
      },
      "execution_count": null,
      "outputs": []
    },
    {
      "cell_type": "code",
      "source": [
        "class MedicalDataset(Dataset):\n",
        "    def __init__(self, df, transform=None):\n",
        "        self.df = df\n",
        "        self.transform = transform\n",
        "    def __len__(self):\n",
        "        return len(self.df)\n",
        "    def __getitem__(self, idx):\n",
        "        img_path = os.path.join(data_dir, self.df.iloc[idx]['image_path'])\n",
        "        image = Image.open(img_path).convert('RGB')\n",
        "        label = self.df.iloc[idx]['label']\n",
        "        if self.transform:\n",
        "            image = self.transform(image)\n",
        "        return image, label\n",
        "\n",
        "transform = transforms.Compose([\n",
        "    transforms.Resize((128,128)),\n",
        "    transforms.ToTensor()\n",
        "])\n",
        "\n",
        "train_df, test_df = train_test_split(df, test_size=0.2, random_state=42)\n",
        "\n",
        "train_dataset = MedicalDataset(train_df, transform=transform)\n",
        "test_dataset = MedicalDataset(test_df, transform=transform)\n",
        "\n",
        "train_loader = DataLoader(train_dataset, batch_size=2, shuffle=True)\n",
        "test_loader = DataLoader(test_dataset, batch_size=2)\n"
      ],
      "metadata": {
        "id": "-Lr7aaYYy1TX"
      },
      "execution_count": null,
      "outputs": []
    },
    {
      "cell_type": "code",
      "source": [
        "class CNNModel(nn.Module):\n",
        "    def __init__(self, num_classes=3):\n",
        "        super(CNNModel, self).__init__()\n",
        "        self.conv1 = nn.Conv2d(3,16,3,padding=1)\n",
        "        self.pool = nn.MaxPool2d(2,2)\n",
        "        self.conv2 = nn.Conv2d(16,32,3,padding=1)\n",
        "        self.fc1 = nn.Linear(32*32*32,128)\n",
        "        self.fc2 = nn.Linear(128,num_classes)\n",
        "    def forward(self,x):\n",
        "        x = self.pool(F.relu(self.conv1(x)))\n",
        "        x = self.pool(F.relu(self.conv2(x)))\n",
        "        x = x.view(-1,32*32*32)\n",
        "        x = F.relu(self.fc1(x))\n",
        "        x = self.fc2(x)\n",
        "        return x\n",
        "\n",
        "model = CNNModel()\n",
        "criterion = nn.CrossEntropyLoss()\n",
        "optimizer = torch.optim.Adam(model.parameters(), lr=0.001)\n"
      ],
      "metadata": {
        "id": "eHA3JRZIy3G4"
      },
      "execution_count": null,
      "outputs": []
    },
    {
      "cell_type": "code",
      "source": [
        "epochs = 10\n",
        "for epoch in range(epochs):\n",
        "    model.train()\n",
        "    total_loss = 0\n",
        "    for images, labels in train_loader:\n",
        "        optimizer.zero_grad()\n",
        "        outputs = model(images)\n",
        "        loss = criterion(outputs, labels)\n",
        "        loss.backward()\n",
        "        optimizer.step()\n",
        "        total_loss += loss.item()\n",
        "    print(f'Epoch {epoch+1}, Loss: {total_loss/len(train_loader):.4f}')\n"
      ],
      "metadata": {
        "id": "h7E2f-sSy5Ff"
      },
      "execution_count": null,
      "outputs": []
    },
    {
      "cell_type": "code",
      "source": [
        "model.eval()\n",
        "correct = 0\n",
        "total = 0\n",
        "with torch.no_grad():\n",
        "    for images, labels in test_loader:\n",
        "        outputs = model(images)\n",
        "        _, predicted = torch.max(outputs.data, 1)\n",
        "        total += labels.size(0)\n",
        "        correct += (predicted == labels).sum().item()\n",
        "\n",
        "print(f'Test Accuracy: {100*correct/total:.2f}%')\n"
      ],
      "metadata": {
        "id": "dYuWhbzcy7SJ"
      },
      "execution_count": null,
      "outputs": []
    },
    {
      "cell_type": "code",
      "source": [
        "# Display some predictions\n",
        "images, labels = next(iter(test_loader))\n",
        "outputs = model(images)\n",
        "_, preds = torch.max(outputs,1)\n",
        "\n",
        "fig, axs = plt.subplots(1, len(images), figsize=(12,3))\n",
        "for i in range(len(images)):\n",
        "    axs[i].imshow(np.transpose(images[i].numpy(), (1,2,0)))\n",
        "    axs[i].set_title(f'Pred: {preds[i].item()}, True: {labels[i].item()}')\n",
        "    axs[i].axis('off')\n",
        "plt.show()\n"
      ],
      "metadata": {
        "id": "DaoAOGy-y-Cn"
      },
      "execution_count": null,
      "outputs": []
    },
    {
      "cell_type": "markdown",
      "source": [
        "This notebook demonstrates a full pipeline for medical image classification using CNN:\n",
        "- Dataset loading and preprocessing\n",
        "- CNN architecture definition\n",
        "- Model training and evaluation\n",
        "- Visualization of predictions\n",
        "\n",
        "The pipeline can be scaled to larger datasets and extended with transfer learning for real-world applications.\n"
      ],
      "metadata": {
        "id": "6OiH9-tVy_v3"
      }
    }
  ]
}
