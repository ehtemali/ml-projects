{
  "nbformat": 4,
  "nbformat_minor": 0,
  "metadata": {
    "colab": {
      "provenance": []
    },
    "kernelspec": {
      "name": "python3",
      "display_name": "Python 3"
    },
    "language_info": {
      "name": "python"
    }
  },
  "cells": [
    {
      "cell_type": "markdown",
      "source": [
        "# Persian Text Sentiment Analysis using BERT\n",
        "\n",
        "This notebook demonstrates the process of classifying Persian text into sentiment categories (Positive, Neutral, Negative) using BERT.\n"
      ],
      "metadata": {
        "id": "4yGmL2c1mofe"
      }
    },
    {
      "cell_type": "code",
      "source": [
        "!pip install transformers datasets torch scikit-learn matplotlib\n",
        "\n",
        "import torch\n",
        "from transformers import BertTokenizer, BertForSequenceClassification, Trainer, TrainingArguments\n",
        "from datasets import load_dataset\n",
        "from sklearn.metrics import accuracy_score, f1_score, classification_report\n",
        "import matplotlib.pyplot as plt\n"
      ],
      "metadata": {
        "id": "-h5CAQJLmqen"
      },
      "execution_count": null,
      "outputs": []
    },
    {
      "cell_type": "code",
      "source": [
        "dataset = load_dataset('csv', data_files={'train': '../data/train.csv', 'test': '../data/test.csv'})\n",
        "dataset['train'], dataset['test']\n"
      ],
      "metadata": {
        "id": "ZKdKuwmmmuTP"
      },
      "execution_count": null,
      "outputs": []
    },
    {
      "cell_type": "code",
      "source": [
        "tokenizer = BertTokenizer.from_pretrained('bert-base-multilingual-cased')\n",
        "\n",
        "def tokenize(batch):\n",
        "    return tokenizer(batch['text'], padding=True, truncation=True, max_length=128)\n",
        "\n",
        "dataset = dataset.map(tokenize, batched=True)\n",
        "dataset.set_format('torch', columns=['input_ids','attention_mask','label'])\n"
      ],
      "metadata": {
        "id": "2O3Egpczmxn3"
      },
      "execution_count": null,
      "outputs": []
    },
    {
      "cell_type": "code",
      "source": [
        "model = BertForSequenceClassification.from_pretrained('bert-base-multilingual-cased', num_labels=3)\n"
      ],
      "metadata": {
        "id": "rwzS42GWm1qu"
      },
      "execution_count": null,
      "outputs": []
    },
    {
      "cell_type": "code",
      "source": [
        "def compute_metrics(pred):\n",
        "    labels = pred.label_ids\n",
        "    preds = pred.predictions.argmax(-1)\n",
        "    acc = accuracy_score(labels, preds)\n",
        "    f1 = f1_score(labels, preds, average='weighted')\n",
        "    return {\"accuracy\": acc, \"f1\": f1}\n"
      ],
      "metadata": {
        "id": "Y6cCeBiNm4GX"
      },
      "execution_count": null,
      "outputs": []
    },
    {
      "cell_type": "code",
      "source": [
        "training_args = TrainingArguments(\n",
        "    output_dir='./results',\n",
        "    num_train_epochs=3,\n",
        "    per_device_train_batch_size=8,\n",
        "    evaluation_strategy='epoch',\n",
        "    logging_dir='./logs'\n",
        ")\n",
        "\n",
        "trainer = Trainer(\n",
        "    model=model,\n",
        "    args=training_args,\n",
        "    train_dataset=dataset['train'],\n",
        "    eval_dataset=dataset['test'],\n",
        "    compute_metrics=compute_metrics\n",
        ")\n",
        "\n",
        "trainer.train()\n"
      ],
      "metadata": {
        "id": "fWJ1hBYTm6Ou"
      },
      "execution_count": null,
      "outputs": []
    },
    {
      "cell_type": "code",
      "source": [
        "results = trainer.evaluate()\n",
        "print(\"Evaluation Results:\", results)\n",
        "\n",
        "preds = trainer.predict(dataset['test']).predictions.argmax(-1)\n",
        "labels = dataset['test']['label']\n",
        "print(classification_report(labels, preds, target_names=['Negative','Neutral','Positive']))\n"
      ],
      "metadata": {
        "id": "KC1s2OMjm8mG"
      },
      "execution_count": null,
      "outputs": []
    },
    {
      "cell_type": "code",
      "source": [
        "import seaborn as sns\n",
        "from sklearn.metrics import confusion_matrix\n",
        "\n",
        "cm = confusion_matrix(labels, preds)\n",
        "sns.heatmap(cm, annot=True, fmt='d', cmap='Blues', xticklabels=['Negative','Neutral','Positive'], yticklabels=['Negative','Neutral','Positive'])\n",
        "plt.xlabel(\"Predicted\")\n",
        "plt.ylabel(\"Actual\")\n",
        "plt.title(\"Confusion Matrix\")\n",
        "plt.show()\n"
      ],
      "metadata": {
        "id": "f723ZPQpm-2X"
      },
      "execution_count": null,
      "outputs": []
    },
    {
      "cell_type": "markdown",
      "source": [
        "This notebook demonstrates a full pipeline for Persian text sentiment analysis using BERT.  \n",
        "- Achieved high accuracy and F1-score on the sample test set.  \n",
        "- Pipeline is ready for extension to larger datasets and further hyperparameter tuning.\n"
      ],
      "metadata": {
        "id": "Vso0akaVnBVA"
      }
    }
  ]
}
